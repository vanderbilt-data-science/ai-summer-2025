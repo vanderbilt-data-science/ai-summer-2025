{
  "cells": [
    {
      "cell_type": "markdown",
      "metadata": {
        "id": "view-in-github",
        "colab_type": "text"
      },
      "source": [
        "<a href=\"https://colab.research.google.com/github/vanderbilt-data-science/ai-summer-2025/blob/main/week4-day1-basic-crewai.ipynb\" target=\"_parent\"><img src=\"https://colab.research.google.com/assets/colab-badge.svg\" alt=\"Open In Colab\"/></a>"
      ]
    },
    {
      "cell_type": "markdown",
      "id": "b5a200bd",
      "metadata": {
        "id": "b5a200bd"
      },
      "source": [
        "# Crew.ai Exploration\n",
        "> Let's try a basic agent!\n",
        "\n",
        "_A notebook for AI Summer, May 2025._\n",
        "* _Week 4, Day 1_\n",
        "* _Notebook created by: Charreau Bell_\n",
        "* _Code execution last verified: May 28, 2025_\n",
        "\n",
        "## Sample Agent Objective\n",
        "Do you have a website and want a search agent to be able to access it using tools? We'll try this below with the DS Minor website. **Note: this code has been updated to reflect the version number of crewai which executes successfully!**"
      ]
    },
    {
      "cell_type": "markdown",
      "source": [
        "## Environment Setup\n",
        "### Local\n",
        "If you're running this on your own computer, you will need to do a few pip installs to get the environment setup. You can use the code below to setup a local virtual environment. Don't forget that you will need a `.env` file, where you can directly add your OpenAI API key!\n",
        "\n",
        "```bash\n",
        "python3 -m venv crewai-venv\n",
        "source crewai-venv/bin/activate\n",
        "pip install ipykernel \"crewai[tools]==0.118.0\" python-dotenv langchain-community pymupdf pypdf2\n",
        "```"
      ],
      "metadata": {
        "id": "CVWTArQnHOz3"
      },
      "id": "CVWTArQnHOz3"
    },
    {
      "cell_type": "markdown",
      "source": [
        "### Google Colab\n",
        "Alternately, if you're using Google colab, you can use the code below. Don't forget to go to the right sidebar and click the 🗝 button (looks like a key). If you haven't already added your OpenAI API key, add a key with the name `OPENAI_API_KEY` and then paste in the API key that you've created using OpenAI. When you run this notebook, you'll get a message about access. Grant access to the key for the notebook to run!"
      ],
      "metadata": {
        "id": "mSrS7OqmGbC2"
      },
      "id": "mSrS7OqmGbC2"
    },
    {
      "cell_type": "code",
      "execution_count": null,
      "id": "f7976bfc",
      "metadata": {
        "collapsed": true,
        "id": "f7976bfc"
      },
      "outputs": [],
      "source": [
        "!pip install \"crewai[tools]==0.118.0\" langchain-community pymupdf pypdf2"
      ]
    },
    {
      "cell_type": "code",
      "execution_count": 2,
      "id": "40704f51",
      "metadata": {
        "id": "40704f51"
      },
      "outputs": [],
      "source": [
        "#simplify with google colab\n",
        "from google.colab import userdata\n",
        "import os\n",
        "os.environ['OPENAI_API_KEY'] = userdata.get('OPENAI_API_KEY')"
      ]
    },
    {
      "cell_type": "markdown",
      "source": [
        "### All systems\n",
        "All systems will run the following code to import the necessary packages once they're available to the system."
      ],
      "metadata": {
        "id": "i9ZSEJn4Hkbe"
      },
      "id": "i9ZSEJn4Hkbe"
    },
    {
      "cell_type": "code",
      "execution_count": 3,
      "id": "e5055d37",
      "metadata": {
        "lines_to_next_cell": 0,
        "colab": {
          "base_uri": "https://localhost:8080/"
        },
        "id": "e5055d37",
        "outputId": "758f4f05-701a-4239-e80b-51bc2adb5d50"
      },
      "outputs": [
        {
          "output_type": "stream",
          "name": "stderr",
          "text": [
            "/usr/local/lib/python3.11/dist-packages/pydantic/_internal/_generate_schema.py:623: UserWarning: <built-in function callable> is not a Python type (it may be an instance of an object), Pydantic will allow any object with no validation since we cannot even enforce that the input is an instance of the given type. To get rid of this error wrap the type with `pydantic.SkipValidation`.\n",
            "  warn(\n"
          ]
        }
      ],
      "source": [
        "# Import the necessary libraries\n",
        "from crewai import Agent, Crew, Task, Process\n",
        "from crewai_tools import WebsiteSearchTool"
      ]
    },
    {
      "cell_type": "markdown",
      "id": "e77667df",
      "metadata": {
        "id": "e77667df"
      },
      "source": [
        "## Creating our first Crew AI Crew\n",
        "\n",
        "Let's make a Crew whose purpose is to pull information from a specific website!"
      ]
    },
    {
      "cell_type": "markdown",
      "id": "98bf73d2",
      "metadata": {
        "lines_to_next_cell": 0,
        "id": "98bf73d2"
      },
      "source": [
        "## Instantiate the tools\n",
        "We'll use the WebsiteSearchTool."
      ]
    },
    {
      "cell_type": "code",
      "execution_count": 4,
      "id": "4449ae6e",
      "metadata": {
        "colab": {
          "base_uri": "https://localhost:8080/"
        },
        "id": "4449ae6e",
        "outputId": "ef982a29-4267-40d3-d6c3-2b2185dfd902"
      },
      "outputs": [
        {
          "output_type": "stream",
          "name": "stderr",
          "text": [
            "/usr/local/lib/python3.11/dist-packages/alembic/config.py:564: DeprecationWarning: No path_separator found in configuration; falling back to legacy splitting on spaces, commas, and colons for prepend_sys_path.  Consider adding path_separator=os to Alembic config.\n",
            "  util.warn_deprecated(\n"
          ]
        }
      ],
      "source": [
        "# Create the VisionTool\n",
        "website_search_tool = WebsiteSearchTool()"
      ]
    },
    {
      "cell_type": "markdown",
      "id": "068d5e0d",
      "metadata": {
        "lines_to_next_cell": 0,
        "id": "068d5e0d"
      },
      "source": [
        "## Define the Agent\n",
        "Visit https://docs.crewai.com/concepts/agents#direct-code-definition to learn more. Below are the full options for the agent.\n",
        "This basically resolves to determining the role of the agent, specifically:\n",
        "* The role title\n",
        "* The goal of the agent\n",
        "* The backstory of the agent\n",
        "\n"
      ]
    },
    {
      "cell_type": "code",
      "execution_count": 5,
      "id": "bbdafaf4",
      "metadata": {
        "id": "bbdafaf4"
      },
      "outputs": [],
      "source": [
        "agent_role = \"Expert Research Librarian\"\n",
        "agent_goal = \"Provide clear and straightforward answers grounded in retrieved documents to the question asked by the user\"\n",
        "agent_backstory = \"You are meticulous in making sure that the answers that you provide originate in provided text. If no text is provided, you give your best guess, but always state that this is only a guess.\""
      ]
    },
    {
      "cell_type": "code",
      "execution_count": 6,
      "id": "779bf52e",
      "metadata": {
        "id": "779bf52e"
      },
      "outputs": [],
      "source": [
        "# Create an agent with all available parameters\n",
        "archivist_agent = Agent(\n",
        "    role=agent_role,\n",
        "    goal=agent_goal,\n",
        "    backstory=agent_backstory,\n",
        "    llm=\"gpt-4o-mini\",  # Default: OPENAI_MODEL_NAME or \"gpt-4\"\n",
        "    function_calling_llm=None,  # Optional: Separate LLM for tool calling\n",
        "    memory=False,  # Default: True\n",
        "    verbose=True,  # *******Default: False\n",
        "    allow_delegation=False,  # Default: False\n",
        "    max_iter=20,  # Default: 20 iterations\n",
        "    max_rpm=None,  # Optional: Rate limit for API calls\n",
        "    max_execution_time=None,  # Optional: Maximum execution time in seconds\n",
        "    max_retry_limit=2,  # Default: 2 retries on error\n",
        "    allow_code_execution=False,  # Default: False\n",
        "    code_execution_mode=\"safe\",  # Default: \"safe\" (options: \"safe\", \"unsafe\")\n",
        "    respect_context_window=True,  # Default: True\n",
        "    use_system_prompt=True,  # Default: True\n",
        "    tools=[website_search_tool],  # *******Optional: List of tools\n",
        "    knowledge_sources=None,  # Optional: List of knowledge sources\n",
        "    embedder=None,  # Optional: Custom embedder configuration\n",
        "    system_template=None,  # Optional: Custom system prompt template\n",
        "    prompt_template=None,  # Optional: Custom prompt template\n",
        "    response_template=None,  # Optional: Custom response template\n",
        "    step_callback=None,  # Optional: Callback function for monitoring\n",
        ")"
      ]
    },
    {
      "cell_type": "markdown",
      "id": "d3eca900",
      "metadata": {
        "lines_to_next_cell": 0,
        "id": "d3eca900"
      },
      "source": [
        "## Define the task\n",
        "Learn more here: [Task](https://docs.crewai.com/concepts/tasks)\n",
        "\n",
        "The purpose of a task is to define the assignment that an agent will complete. Minimally, you need a description of the task to be completed, the expected output, and the agent that is responsible to complete the task."
      ]
    },
    {
      "cell_type": "code",
      "execution_count": 7,
      "id": "616ea67e",
      "metadata": {
        "id": "616ea67e"
      },
      "outputs": [],
      "source": [
        "# Create a task\n",
        "main_task = Task(\n",
        "    description=\"Answer the question provided by the user: {user_question} using the information provided at: {provided_link}\",\n",
        "    expected_output=\"A concise statement which answers the question posed by the user\",\n",
        "    agent=archivist_agent,\n",
        ")"
      ]
    },
    {
      "cell_type": "markdown",
      "id": "11f391d9",
      "metadata": {
        "lines_to_next_cell": 0,
        "id": "11f391d9"
      },
      "source": [
        "## Define the Crew"
      ]
    },
    {
      "cell_type": "code",
      "execution_count": 8,
      "id": "6a3d0101",
      "metadata": {
        "id": "6a3d0101"
      },
      "outputs": [],
      "source": [
        "# Create a crew\n",
        "crew = Crew(\n",
        "    agents=[archivist_agent],\n",
        "    tasks=[main_task],\n",
        "    process = Process.sequential,\n",
        "    verbose=True,\n",
        "    memory=False\n",
        ")"
      ]
    },
    {
      "cell_type": "markdown",
      "id": "8e941dab",
      "metadata": {
        "lines_to_next_cell": 0,
        "id": "8e941dab"
      },
      "source": [
        "## Run the Crew"
      ]
    },
    {
      "cell_type": "code",
      "execution_count": 9,
      "id": "986746e2",
      "metadata": {
        "colab": {
          "base_uri": "https://localhost:8080/",
          "height": 1000
        },
        "id": "986746e2",
        "outputId": "c906f6a1-331a-460c-de90-171077c78474"
      },
      "outputs": [
        {
          "output_type": "display_data",
          "data": {
            "text/plain": [
              "\u001b[36m╭─\u001b[0m\u001b[36m───────────────────────────────────────────\u001b[0m\u001b[36m Crew Execution Started \u001b[0m\u001b[36m────────────────────────────────────────────\u001b[0m\u001b[36m─╮\u001b[0m\n",
              "\u001b[36m│\u001b[0m                                                                                                                 \u001b[36m│\u001b[0m\n",
              "\u001b[36m│\u001b[0m  \u001b[1;36mCrew Execution Started\u001b[0m                                                                                         \u001b[36m│\u001b[0m\n",
              "\u001b[36m│\u001b[0m  \u001b[37mName: \u001b[0m\u001b[36mcrew\u001b[0m                                                                                                     \u001b[36m│\u001b[0m\n",
              "\u001b[36m│\u001b[0m  \u001b[37mID: \u001b[0m\u001b[36m125acbc7-548f-436e-99df-eeaa3715452b\u001b[0m                                                                       \u001b[36m│\u001b[0m\n",
              "\u001b[36m│\u001b[0m                                                                                                                 \u001b[36m│\u001b[0m\n",
              "\u001b[36m│\u001b[0m                                                                                                                 \u001b[36m│\u001b[0m\n",
              "\u001b[36m╰─────────────────────────────────────────────────────────────────────────────────────────────────────────────────╯\u001b[0m\n"
            ],
            "text/html": [
              "<pre style=\"white-space:pre;overflow-x:auto;line-height:normal;font-family:Menlo,'DejaVu Sans Mono',consolas,'Courier New',monospace\"><span style=\"color: #008080; text-decoration-color: #008080\">╭──────────────────────────────────────────── Crew Execution Started ─────────────────────────────────────────────╮</span>\n",
              "<span style=\"color: #008080; text-decoration-color: #008080\">│</span>                                                                                                                 <span style=\"color: #008080; text-decoration-color: #008080\">│</span>\n",
              "<span style=\"color: #008080; text-decoration-color: #008080\">│</span>  <span style=\"color: #008080; text-decoration-color: #008080; font-weight: bold\">Crew Execution Started</span>                                                                                         <span style=\"color: #008080; text-decoration-color: #008080\">│</span>\n",
              "<span style=\"color: #008080; text-decoration-color: #008080\">│</span>  <span style=\"color: #c0c0c0; text-decoration-color: #c0c0c0\">Name: </span><span style=\"color: #008080; text-decoration-color: #008080\">crew</span>                                                                                                     <span style=\"color: #008080; text-decoration-color: #008080\">│</span>\n",
              "<span style=\"color: #008080; text-decoration-color: #008080\">│</span>  <span style=\"color: #c0c0c0; text-decoration-color: #c0c0c0\">ID: </span><span style=\"color: #008080; text-decoration-color: #008080\">125acbc7-548f-436e-99df-eeaa3715452b</span>                                                                       <span style=\"color: #008080; text-decoration-color: #008080\">│</span>\n",
              "<span style=\"color: #008080; text-decoration-color: #008080\">│</span>                                                                                                                 <span style=\"color: #008080; text-decoration-color: #008080\">│</span>\n",
              "<span style=\"color: #008080; text-decoration-color: #008080\">│</span>                                                                                                                 <span style=\"color: #008080; text-decoration-color: #008080\">│</span>\n",
              "<span style=\"color: #008080; text-decoration-color: #008080\">╰─────────────────────────────────────────────────────────────────────────────────────────────────────────────────╯</span>\n",
              "</pre>\n"
            ]
          },
          "metadata": {}
        },
        {
          "output_type": "display_data",
          "data": {
            "text/plain": [
              "\n"
            ],
            "text/html": [
              "<pre style=\"white-space:pre;overflow-x:auto;line-height:normal;font-family:Menlo,'DejaVu Sans Mono',consolas,'Courier New',monospace\">\n",
              "</pre>\n"
            ]
          },
          "metadata": {}
        },
        {
          "output_type": "display_data",
          "data": {
            "text/plain": [
              "\u001b[1;36m🚀 Crew: \u001b[0m\u001b[1;36mcrew\u001b[0m\n",
              "└── \u001b[1;33m📋 Task: f301db8f-9f28-483b-a6ae-a15d6f6a98c6\u001b[0m\n",
              "    \u001b[37m   Status: \u001b[0m\u001b[2;33mExecuting Task...\u001b[0m\n"
            ],
            "text/html": [
              "<pre style=\"white-space:pre;overflow-x:auto;line-height:normal;font-family:Menlo,'DejaVu Sans Mono',consolas,'Courier New',monospace\"><span style=\"color: #008080; text-decoration-color: #008080; font-weight: bold\">🚀 Crew: crew</span>\n",
              "└── <span style=\"color: #808000; text-decoration-color: #808000; font-weight: bold\">📋 Task: f301db8f-9f28-483b-a6ae-a15d6f6a98c6</span>\n",
              "    <span style=\"color: #c0c0c0; text-decoration-color: #c0c0c0\">   Status: </span><span style=\"color: #bfbf7f; text-decoration-color: #bfbf7f\">Executing Task...</span>\n",
              "</pre>\n"
            ]
          },
          "metadata": {}
        },
        {
          "output_type": "display_data",
          "data": {
            "text/plain": [
              "\n"
            ],
            "text/html": [
              "<pre style=\"white-space:pre;overflow-x:auto;line-height:normal;font-family:Menlo,'DejaVu Sans Mono',consolas,'Courier New',monospace\">\n",
              "</pre>\n"
            ]
          },
          "metadata": {}
        },
        {
          "output_type": "display_data",
          "data": {
            "text/plain": [
              "\u001b[1;36m🚀 Crew: \u001b[0m\u001b[1;36mcrew\u001b[0m\n",
              "└── \u001b[1;33m📋 Task: f301db8f-9f28-483b-a6ae-a15d6f6a98c6\u001b[0m\n",
              "    \u001b[37m   Status: \u001b[0m\u001b[2;33mExecuting Task...\u001b[0m\n",
              "    └── \u001b[1;32m🤖 Agent: \u001b[0m\u001b[32mExpert Research Librarian\u001b[0m\n",
              "        \u001b[37m    Status: \u001b[0m\u001b[1;32mIn Progress\u001b[0m\n"
            ],
            "text/html": [
              "<pre style=\"white-space:pre;overflow-x:auto;line-height:normal;font-family:Menlo,'DejaVu Sans Mono',consolas,'Courier New',monospace\"><span style=\"color: #008080; text-decoration-color: #008080; font-weight: bold\">🚀 Crew: crew</span>\n",
              "└── <span style=\"color: #808000; text-decoration-color: #808000; font-weight: bold\">📋 Task: f301db8f-9f28-483b-a6ae-a15d6f6a98c6</span>\n",
              "    <span style=\"color: #c0c0c0; text-decoration-color: #c0c0c0\">   Status: </span><span style=\"color: #bfbf7f; text-decoration-color: #bfbf7f\">Executing Task...</span>\n",
              "    └── <span style=\"color: #008000; text-decoration-color: #008000; font-weight: bold\">🤖 Agent: </span><span style=\"color: #008000; text-decoration-color: #008000\">Expert Research Librarian</span>\n",
              "        <span style=\"color: #c0c0c0; text-decoration-color: #c0c0c0\">    Status: </span><span style=\"color: #008000; text-decoration-color: #008000; font-weight: bold\">In Progress</span>\n",
              "</pre>\n"
            ]
          },
          "metadata": {}
        },
        {
          "output_type": "display_data",
          "data": {
            "text/plain": [
              "\n"
            ],
            "text/html": [
              "<pre style=\"white-space:pre;overflow-x:auto;line-height:normal;font-family:Menlo,'DejaVu Sans Mono',consolas,'Courier New',monospace\">\n",
              "</pre>\n"
            ]
          },
          "metadata": {}
        },
        {
          "output_type": "stream",
          "name": "stdout",
          "text": [
            "\u001b[1m\u001b[95m# Agent:\u001b[00m \u001b[1m\u001b[92mExpert Research Librarian\u001b[00m\n",
            "\u001b[95m## Task:\u001b[00m \u001b[92mAnswer the question provided by the user: How many credit hours is this program? using the information provided at: https://www.vanderbilt.edu/undergrad-datascience/minor/\u001b[00m\n"
          ]
        },
        {
          "output_type": "display_data",
          "data": {
            "text/plain": [
              "\u001b[1;32m🤖 Agent: \u001b[0m\u001b[32mExpert Research Librarian\u001b[0m\n",
              "\u001b[37m    Status: \u001b[0m\u001b[1;32mIn Progress\u001b[0m\n",
              "└── \u001b[1;34m🧠 \u001b[0m\u001b[34mThinking...\u001b[0m\n"
            ],
            "text/html": [
              "<pre style=\"white-space:pre;overflow-x:auto;line-height:normal;font-family:Menlo,'DejaVu Sans Mono',consolas,'Courier New',monospace\"><span style=\"color: #008000; text-decoration-color: #008000; font-weight: bold\">🤖 Agent: </span><span style=\"color: #008000; text-decoration-color: #008000\">Expert Research Librarian</span>\n",
              "<span style=\"color: #c0c0c0; text-decoration-color: #c0c0c0\">    Status: </span><span style=\"color: #008000; text-decoration-color: #008000; font-weight: bold\">In Progress</span>\n",
              "└── <span style=\"color: #000080; text-decoration-color: #000080; font-weight: bold\">🧠 </span><span style=\"color: #000080; text-decoration-color: #000080\">Thinking...</span>\n",
              "</pre>\n"
            ]
          },
          "metadata": {}
        },
        {
          "output_type": "display_data",
          "data": {
            "text/plain": [
              "\n"
            ],
            "text/html": [
              "<pre style=\"white-space:pre;overflow-x:auto;line-height:normal;font-family:Menlo,'DejaVu Sans Mono',consolas,'Courier New',monospace\">\n",
              "</pre>\n"
            ]
          },
          "metadata": {}
        },
        {
          "output_type": "display_data",
          "data": {
            "text/plain": [
              "\u001b[1;32m🤖 Agent: \u001b[0m\u001b[32mExpert Research Librarian\u001b[0m\n",
              "\u001b[37m    Status: \u001b[0m\u001b[1;32mIn Progress\u001b[0m\n"
            ],
            "text/html": [
              "<pre style=\"white-space:pre;overflow-x:auto;line-height:normal;font-family:Menlo,'DejaVu Sans Mono',consolas,'Courier New',monospace\"><span style=\"color: #008000; text-decoration-color: #008000; font-weight: bold\">🤖 Agent: </span><span style=\"color: #008000; text-decoration-color: #008000\">Expert Research Librarian</span>\n",
              "<span style=\"color: #c0c0c0; text-decoration-color: #c0c0c0\">    Status: </span><span style=\"color: #008000; text-decoration-color: #008000; font-weight: bold\">In Progress</span>\n",
              "</pre>\n"
            ]
          },
          "metadata": {}
        },
        {
          "output_type": "display_data",
          "data": {
            "text/plain": [
              "\n"
            ],
            "text/html": [
              "<pre style=\"white-space:pre;overflow-x:auto;line-height:normal;font-family:Menlo,'DejaVu Sans Mono',consolas,'Courier New',monospace\">\n",
              "</pre>\n"
            ]
          },
          "metadata": {}
        },
        {
          "output_type": "display_data",
          "data": {
            "text/plain": [
              "\u001b[1;32m🤖 Agent: \u001b[0m\u001b[32mExpert Research Librarian\u001b[0m\n",
              "\u001b[37m    Status: \u001b[0m\u001b[1;32mIn Progress\u001b[0m\n"
            ],
            "text/html": [
              "<pre style=\"white-space:pre;overflow-x:auto;line-height:normal;font-family:Menlo,'DejaVu Sans Mono',consolas,'Courier New',monospace\"><span style=\"color: #008000; text-decoration-color: #008000; font-weight: bold\">🤖 Agent: </span><span style=\"color: #008000; text-decoration-color: #008000\">Expert Research Librarian</span>\n",
              "<span style=\"color: #c0c0c0; text-decoration-color: #c0c0c0\">    Status: </span><span style=\"color: #008000; text-decoration-color: #008000; font-weight: bold\">In Progress</span>\n",
              "</pre>\n"
            ]
          },
          "metadata": {}
        },
        {
          "output_type": "display_data",
          "data": {
            "text/plain": [
              "\n"
            ],
            "text/html": [
              "<pre style=\"white-space:pre;overflow-x:auto;line-height:normal;font-family:Menlo,'DejaVu Sans Mono',consolas,'Courier New',monospace\">\n",
              "</pre>\n"
            ]
          },
          "metadata": {}
        },
        {
          "output_type": "stream",
          "name": "stderr",
          "text": [
            "Inserting batches in chromadb:   0%|          | 0/1 [00:00<?, ?it/s]/usr/local/lib/python3.11/dist-packages/chromadb/types.py:144: PydanticDeprecatedSince211: Accessing the 'model_fields' attribute on the instance is deprecated. Instead, you should access this attribute from the model class. Deprecated in Pydantic V2.11 to be removed in V3.0.\n",
            "  return self.model_fields  # pydantic 2.x\n",
            "Inserting batches in chromadb: 100%|██████████| 1/1 [00:00<00:00,  1.73it/s]\n"
          ]
        },
        {
          "output_type": "stream",
          "name": "stdout",
          "text": [
            "\n",
            "\n",
            "\u001b[1m\u001b[95m# Agent:\u001b[00m \u001b[1m\u001b[92mExpert Research Librarian\u001b[00m\n",
            "\u001b[95m## Thought:\u001b[00m \u001b[92mAction: Search in a specific website\u001b[00m\n",
            "\u001b[95m## Using tool:\u001b[00m \u001b[92mSearch in a specific website\u001b[00m\n",
            "\u001b[95m## Tool Input:\u001b[00m \u001b[92m\n",
            "\"{\\\"search_query\\\": \\\"credit hours\\\", \\\"website\\\": \\\"https://www.vanderbilt.edu/undergrad-datascience/minor/\\\"}\"\u001b[00m\n",
            "\u001b[95m## Tool Output:\u001b[00m \u001b[92m\n",
            "Relevant Content:\n",
            "Projects in Machine Learning CS 4260 Artificial Intelligence CS 4266 Topics in Big Data CS 4267 Deep Learning CS 6362 Advanced Machine Learning CS 8395 Visual Analytics & Machine Learning CS 8395 Special Topics – Selected Topics in Deep Learning DS 3891 Special Topics in Data Science – Intro to Generative Artificial DS 3891 Special Topics in Data Science – Technical Consulting in DS ECE 4363 Applied Statistical Machine Learning ECE 4354 Computer Vision ECON 3750 Econometrics for Big Data HIST 1590 Artificial Intelligence and Society MATH 3130 Fourier Analysis MATH 3670 Mathematical Data Science MATH 4620 Linear Optimization MATH 4630 Nonlinear Optimization MHS 3890 Special Topics – Introduction to Data Visualization MTEC 2350 Artificial Intelligence and the Creative Musician NSC 3270 Computational Neuroscience PSY-PC 3751 Exploratory and Graphical Data Analysis PSY-PC 7500-03 Special Topics Psychology and Human Development-Neural Network Models of Cog Dev (Offered Spring 2024) SOC-3242 AI in Social Systems D. Research Hours in Data Science DS 3850 Undergraduate Research in Data Science Students electing the undergraduate minor in Data Science must follow academic regulations regarding minors in their home school, including but not limited to regulations regarding unique hours. Additional credit hours in Data Science that must be earned because of college-specific regulations regarding unique hours must be earned by taking additional courses chosen from the list of electives. If you have questions about the Data Science Minor or Immersion opportunities in data science, please email us at undergraduate.datascience@vanderbilt.edu. VIEW MORE EVENTS >\n",
            "\n",
            "Science Fundamentals (4 hours) DS 3100 Fundamentals of Data Science Machine Learning (3 hours) One of the following: DS 3262 Applied Machine Learning CS 3262 Applied Machine Learning CS 4262 Foundations of Machine Learning ECON 3750 Econometrics for Big Data MATH 3670 Mathematical Data Science Elective (3 hours) One course from the list of electives below. Electives in data science are courses with various combinations of computation, visualization, simulation, statistics, psychometrics, and/or machine learning aimed at understanding and explaining data in the physical, life, or social sciences, engineering, arts, or the humanities, or courses that examine the impact of data on society and its institutions. Students and faculty are encouraged to petition for new courses with data science content to be considered as electives for the minor. A. Intermediate / Advanced Programming, Modeling, Simulation ASTR 3800 Structure Formation in the Universe BME 4310 Modeling Living Systems for Therapeutic Bioengineering BSCI 3271 Programming for Biologists CHBE 4830 Molecular Simulation CHEM 5410 Molecular Modeling Methods CHEM 5420 Computational Structural Biochemistry EES 4760 Agent and Individual Based Computational Modeling MATH 3660 Mathematical Modeling in Economics ME 4271 Fundamentals of Robotic Manipulators ME 4284 Modeling and Simulation of Dynamic Systems ME 4263 Computational Fluid Dynamics and Multiphysics Modeling ME 4275 Finite Element Analysis PHYS 3790 Computational Physics PSY 4218 Computational Cognitive Modeling PSY 4219 Scientific Computing for Psychological and Brain Sciences PSY 4775 Models of Memory SC 3250 Scientific Computing Toolbox SC 3260 High Performance Computing B. Intermediate / Advanced Probability, Statistics, and Data Analysis ASTR 8070 Astrostatistics BIOS 6311 Principles of Modern Biostatistics BIOS 6312 Modern Regression Analysis BIOS 6341 Fundamentals of Probability BIOS 6342 Contemporary Statistical Inference BIOS 7362 Advanced\n",
            "\n",
            "Data Science Minor Requirements | Undergraduate Data Science | Vanderbilt University Skip to main content link Data Science Minor Requirements Please refer to the current undergraduate catalog for full requirements. If any discrepancy exists between the requirements below and those listed in the undergraduate catalog, requirements in the catalog always prevail. Introduction to Data Science (3 hours) DS 1000 Data Science: How Data Shape Our World DS 1000 is an introduction to data science and provides a broad overview of data science applications and techniques. As an introductory course, students are highly encouraged to take DS 1000 early in their academic careers, and should not depend on enrollment in this course in their senior year. Students who are currently enrolled in or have already taken DS 3100 or PSCI 2300 may also request substitutions which will be considered on a case-by-case basis. Please fill out the DS 1000 substitution form here for consideration. Email undergraduate.datascience@vanderbilt.edu if you have questions and for substitution approvals. Computer Programming (3 hours) One of the following (see also What Programming Course To Take?): DS 1100 Applied Programming and Problem Solving with Python CS 1100 Applied Programming and Problem Solving with Python CS 2201 Program Design and Data Structures (prereq: CS 1101) CS 2204 Program Design and Data Structures for Scientific Computing (prereq: CS/DS1100 or CS 1104) Introduction to Statistics (3 hours) One of the following: DS 2100 Statistics for Data Science BME 2400 Quantitative Methods I: Statistical Analysis BSCI 3270 Statistical Methods in Biology CE 3300 Risk, Reliability, and Resilience Engineering ECON 1500 Economic Statistics ECON 1510 Intensive Economic Statistics MATH 2810 Probability and Statistics for Engineering MATH 2821 Introduction to Applied Statistics PSY 2100 Quantitative Methods PSY-PC 2110 Introduction to Statistical Analysis SOC 2100 Statistics for Social Scientists Data\u001b[00m\n"
          ]
        },
        {
          "output_type": "display_data",
          "data": {
            "text/plain": [
              "\u001b[1;32m🤖 Agent: \u001b[0m\u001b[32mExpert Research Librarian\u001b[0m\n",
              "\u001b[37m    Status: \u001b[0m\u001b[1;32mIn Progress\u001b[0m\n",
              "└── \u001b[1;34m🧠 \u001b[0m\u001b[34mThinking...\u001b[0m\n"
            ],
            "text/html": [
              "<pre style=\"white-space:pre;overflow-x:auto;line-height:normal;font-family:Menlo,'DejaVu Sans Mono',consolas,'Courier New',monospace\"><span style=\"color: #008000; text-decoration-color: #008000; font-weight: bold\">🤖 Agent: </span><span style=\"color: #008000; text-decoration-color: #008000\">Expert Research Librarian</span>\n",
              "<span style=\"color: #c0c0c0; text-decoration-color: #c0c0c0\">    Status: </span><span style=\"color: #008000; text-decoration-color: #008000; font-weight: bold\">In Progress</span>\n",
              "└── <span style=\"color: #000080; text-decoration-color: #000080; font-weight: bold\">🧠 </span><span style=\"color: #000080; text-decoration-color: #000080\">Thinking...</span>\n",
              "</pre>\n"
            ]
          },
          "metadata": {}
        },
        {
          "output_type": "display_data",
          "data": {
            "text/plain": [
              "\n"
            ],
            "text/html": [
              "<pre style=\"white-space:pre;overflow-x:auto;line-height:normal;font-family:Menlo,'DejaVu Sans Mono',consolas,'Courier New',monospace\">\n",
              "</pre>\n"
            ]
          },
          "metadata": {}
        },
        {
          "output_type": "display_data",
          "data": {
            "text/plain": [
              "\u001b[1;32m🤖 Agent: \u001b[0m\u001b[32mExpert Research Librarian\u001b[0m\n",
              "\u001b[37m    Status: \u001b[0m\u001b[1;32mIn Progress\u001b[0m\n"
            ],
            "text/html": [
              "<pre style=\"white-space:pre;overflow-x:auto;line-height:normal;font-family:Menlo,'DejaVu Sans Mono',consolas,'Courier New',monospace\"><span style=\"color: #008000; text-decoration-color: #008000; font-weight: bold\">🤖 Agent: </span><span style=\"color: #008000; text-decoration-color: #008000\">Expert Research Librarian</span>\n",
              "<span style=\"color: #c0c0c0; text-decoration-color: #c0c0c0\">    Status: </span><span style=\"color: #008000; text-decoration-color: #008000; font-weight: bold\">In Progress</span>\n",
              "</pre>\n"
            ]
          },
          "metadata": {}
        },
        {
          "output_type": "display_data",
          "data": {
            "text/plain": [
              "\n"
            ],
            "text/html": [
              "<pre style=\"white-space:pre;overflow-x:auto;line-height:normal;font-family:Menlo,'DejaVu Sans Mono',consolas,'Courier New',monospace\">\n",
              "</pre>\n"
            ]
          },
          "metadata": {}
        },
        {
          "output_type": "stream",
          "name": "stdout",
          "text": [
            "\n",
            "\n",
            "\u001b[1m\u001b[95m# Agent:\u001b[00m \u001b[1m\u001b[92mExpert Research Librarian\u001b[00m\n",
            "\u001b[95m## Final Answer:\u001b[00m \u001b[92m\n",
            "The program requires a total of 19 credit hours.\u001b[00m\n",
            "\n",
            "\n"
          ]
        },
        {
          "output_type": "display_data",
          "data": {
            "text/plain": [
              "\u001b[1;36m🚀 Crew: \u001b[0m\u001b[1;36mcrew\u001b[0m\n",
              "└── \u001b[1;33m📋 Task: f301db8f-9f28-483b-a6ae-a15d6f6a98c6\u001b[0m\n",
              "    \u001b[37m   Status: \u001b[0m\u001b[2;33mExecuting Task...\u001b[0m\n",
              "    └── \u001b[1;32m🤖 Agent: \u001b[0m\u001b[32mExpert Research Librarian\u001b[0m\n",
              "        \u001b[37m    Status: \u001b[0m\u001b[1;32m✅ Completed\u001b[0m\n"
            ],
            "text/html": [
              "<pre style=\"white-space:pre;overflow-x:auto;line-height:normal;font-family:Menlo,'DejaVu Sans Mono',consolas,'Courier New',monospace\"><span style=\"color: #008080; text-decoration-color: #008080; font-weight: bold\">🚀 Crew: crew</span>\n",
              "└── <span style=\"color: #808000; text-decoration-color: #808000; font-weight: bold\">📋 Task: f301db8f-9f28-483b-a6ae-a15d6f6a98c6</span>\n",
              "    <span style=\"color: #c0c0c0; text-decoration-color: #c0c0c0\">   Status: </span><span style=\"color: #bfbf7f; text-decoration-color: #bfbf7f\">Executing Task...</span>\n",
              "    └── <span style=\"color: #008000; text-decoration-color: #008000; font-weight: bold\">🤖 Agent: </span><span style=\"color: #008000; text-decoration-color: #008000\">Expert Research Librarian</span>\n",
              "        <span style=\"color: #c0c0c0; text-decoration-color: #c0c0c0\">    Status: </span><span style=\"color: #008000; text-decoration-color: #008000; font-weight: bold\">✅ Completed</span>\n",
              "</pre>\n"
            ]
          },
          "metadata": {}
        },
        {
          "output_type": "display_data",
          "data": {
            "text/plain": [
              "\n"
            ],
            "text/html": [
              "<pre style=\"white-space:pre;overflow-x:auto;line-height:normal;font-family:Menlo,'DejaVu Sans Mono',consolas,'Courier New',monospace\">\n",
              "</pre>\n"
            ]
          },
          "metadata": {}
        },
        {
          "output_type": "display_data",
          "data": {
            "text/plain": [
              "\u001b[1;36m🚀 Crew: \u001b[0m\u001b[1;36mcrew\u001b[0m\n",
              "└── \u001b[1;32m📋 Task: f301db8f-9f28-483b-a6ae-a15d6f6a98c6\u001b[0m\n",
              "    \u001b[37m   Assigned to: \u001b[0m\u001b[32mExpert Research Librarian\u001b[0m\n",
              "    \u001b[37m   Status: \u001b[0m\u001b[1;32m✅ Completed\u001b[0m\n",
              "    └── \u001b[1;32m🤖 Agent: \u001b[0m\u001b[32mExpert Research Librarian\u001b[0m\n",
              "        \u001b[37m    Status: \u001b[0m\u001b[1;32m✅ Completed\u001b[0m\n"
            ],
            "text/html": [
              "<pre style=\"white-space:pre;overflow-x:auto;line-height:normal;font-family:Menlo,'DejaVu Sans Mono',consolas,'Courier New',monospace\"><span style=\"color: #008080; text-decoration-color: #008080; font-weight: bold\">🚀 Crew: crew</span>\n",
              "└── <span style=\"color: #008000; text-decoration-color: #008000; font-weight: bold\">📋 Task: f301db8f-9f28-483b-a6ae-a15d6f6a98c6</span>\n",
              "    <span style=\"color: #c0c0c0; text-decoration-color: #c0c0c0\">   Assigned to: </span><span style=\"color: #008000; text-decoration-color: #008000\">Expert Research Librarian</span>\n",
              "    <span style=\"color: #c0c0c0; text-decoration-color: #c0c0c0\">   Status: </span><span style=\"color: #008000; text-decoration-color: #008000; font-weight: bold\">✅ Completed</span>\n",
              "    └── <span style=\"color: #008000; text-decoration-color: #008000; font-weight: bold\">🤖 Agent: </span><span style=\"color: #008000; text-decoration-color: #008000\">Expert Research Librarian</span>\n",
              "        <span style=\"color: #c0c0c0; text-decoration-color: #c0c0c0\">    Status: </span><span style=\"color: #008000; text-decoration-color: #008000; font-weight: bold\">✅ Completed</span>\n",
              "</pre>\n"
            ]
          },
          "metadata": {}
        },
        {
          "output_type": "display_data",
          "data": {
            "text/plain": [
              "\u001b[32m╭─\u001b[0m\u001b[32m───────────────────────────────────────────────\u001b[0m\u001b[32m Task Completion \u001b[0m\u001b[32m───────────────────────────────────────────────\u001b[0m\u001b[32m─╮\u001b[0m\n",
              "\u001b[32m│\u001b[0m                                                                                                                 \u001b[32m│\u001b[0m\n",
              "\u001b[32m│\u001b[0m  \u001b[1;32mTask Completed\u001b[0m                                                                                                 \u001b[32m│\u001b[0m\n",
              "\u001b[32m│\u001b[0m  \u001b[37mName: \u001b[0m\u001b[32mf301db8f-9f28-483b-a6ae-a15d6f6a98c6\u001b[0m                                                                     \u001b[32m│\u001b[0m\n",
              "\u001b[32m│\u001b[0m  \u001b[37mAgent: \u001b[0m\u001b[32mExpert Research Librarian\u001b[0m                                                                               \u001b[32m│\u001b[0m\n",
              "\u001b[32m│\u001b[0m                                                                                                                 \u001b[32m│\u001b[0m\n",
              "\u001b[32m│\u001b[0m                                                                                                                 \u001b[32m│\u001b[0m\n",
              "\u001b[32m╰─────────────────────────────────────────────────────────────────────────────────────────────────────────────────╯\u001b[0m\n"
            ],
            "text/html": [
              "<pre style=\"white-space:pre;overflow-x:auto;line-height:normal;font-family:Menlo,'DejaVu Sans Mono',consolas,'Courier New',monospace\"><span style=\"color: #008000; text-decoration-color: #008000\">╭──────────────────────────────────────────────── Task Completion ────────────────────────────────────────────────╮</span>\n",
              "<span style=\"color: #008000; text-decoration-color: #008000\">│</span>                                                                                                                 <span style=\"color: #008000; text-decoration-color: #008000\">│</span>\n",
              "<span style=\"color: #008000; text-decoration-color: #008000\">│</span>  <span style=\"color: #008000; text-decoration-color: #008000; font-weight: bold\">Task Completed</span>                                                                                                 <span style=\"color: #008000; text-decoration-color: #008000\">│</span>\n",
              "<span style=\"color: #008000; text-decoration-color: #008000\">│</span>  <span style=\"color: #c0c0c0; text-decoration-color: #c0c0c0\">Name: </span><span style=\"color: #008000; text-decoration-color: #008000\">f301db8f-9f28-483b-a6ae-a15d6f6a98c6</span>                                                                     <span style=\"color: #008000; text-decoration-color: #008000\">│</span>\n",
              "<span style=\"color: #008000; text-decoration-color: #008000\">│</span>  <span style=\"color: #c0c0c0; text-decoration-color: #c0c0c0\">Agent: </span><span style=\"color: #008000; text-decoration-color: #008000\">Expert Research Librarian</span>                                                                               <span style=\"color: #008000; text-decoration-color: #008000\">│</span>\n",
              "<span style=\"color: #008000; text-decoration-color: #008000\">│</span>                                                                                                                 <span style=\"color: #008000; text-decoration-color: #008000\">│</span>\n",
              "<span style=\"color: #008000; text-decoration-color: #008000\">│</span>                                                                                                                 <span style=\"color: #008000; text-decoration-color: #008000\">│</span>\n",
              "<span style=\"color: #008000; text-decoration-color: #008000\">╰─────────────────────────────────────────────────────────────────────────────────────────────────────────────────╯</span>\n",
              "</pre>\n"
            ]
          },
          "metadata": {}
        },
        {
          "output_type": "display_data",
          "data": {
            "text/plain": [
              "\n"
            ],
            "text/html": [
              "<pre style=\"white-space:pre;overflow-x:auto;line-height:normal;font-family:Menlo,'DejaVu Sans Mono',consolas,'Courier New',monospace\">\n",
              "</pre>\n"
            ]
          },
          "metadata": {}
        },
        {
          "output_type": "display_data",
          "data": {
            "text/plain": [
              "\u001b[32m╭─\u001b[0m\u001b[32m───────────────────────────────────────────────\u001b[0m\u001b[32m Crew Completion \u001b[0m\u001b[32m───────────────────────────────────────────────\u001b[0m\u001b[32m─╮\u001b[0m\n",
              "\u001b[32m│\u001b[0m                                                                                                                 \u001b[32m│\u001b[0m\n",
              "\u001b[32m│\u001b[0m  \u001b[1;32mCrew Execution Completed\u001b[0m                                                                                       \u001b[32m│\u001b[0m\n",
              "\u001b[32m│\u001b[0m  \u001b[37mName: \u001b[0m\u001b[32mcrew\u001b[0m                                                                                                     \u001b[32m│\u001b[0m\n",
              "\u001b[32m│\u001b[0m  \u001b[37mID: \u001b[0m\u001b[32m125acbc7-548f-436e-99df-eeaa3715452b\u001b[0m                                                                       \u001b[32m│\u001b[0m\n",
              "\u001b[32m│\u001b[0m                                                                                                                 \u001b[32m│\u001b[0m\n",
              "\u001b[32m│\u001b[0m                                                                                                                 \u001b[32m│\u001b[0m\n",
              "\u001b[32m╰─────────────────────────────────────────────────────────────────────────────────────────────────────────────────╯\u001b[0m\n"
            ],
            "text/html": [
              "<pre style=\"white-space:pre;overflow-x:auto;line-height:normal;font-family:Menlo,'DejaVu Sans Mono',consolas,'Courier New',monospace\"><span style=\"color: #008000; text-decoration-color: #008000\">╭──────────────────────────────────────────────── Crew Completion ────────────────────────────────────────────────╮</span>\n",
              "<span style=\"color: #008000; text-decoration-color: #008000\">│</span>                                                                                                                 <span style=\"color: #008000; text-decoration-color: #008000\">│</span>\n",
              "<span style=\"color: #008000; text-decoration-color: #008000\">│</span>  <span style=\"color: #008000; text-decoration-color: #008000; font-weight: bold\">Crew Execution Completed</span>                                                                                       <span style=\"color: #008000; text-decoration-color: #008000\">│</span>\n",
              "<span style=\"color: #008000; text-decoration-color: #008000\">│</span>  <span style=\"color: #c0c0c0; text-decoration-color: #c0c0c0\">Name: </span><span style=\"color: #008000; text-decoration-color: #008000\">crew</span>                                                                                                     <span style=\"color: #008000; text-decoration-color: #008000\">│</span>\n",
              "<span style=\"color: #008000; text-decoration-color: #008000\">│</span>  <span style=\"color: #c0c0c0; text-decoration-color: #c0c0c0\">ID: </span><span style=\"color: #008000; text-decoration-color: #008000\">125acbc7-548f-436e-99df-eeaa3715452b</span>                                                                       <span style=\"color: #008000; text-decoration-color: #008000\">│</span>\n",
              "<span style=\"color: #008000; text-decoration-color: #008000\">│</span>                                                                                                                 <span style=\"color: #008000; text-decoration-color: #008000\">│</span>\n",
              "<span style=\"color: #008000; text-decoration-color: #008000\">│</span>                                                                                                                 <span style=\"color: #008000; text-decoration-color: #008000\">│</span>\n",
              "<span style=\"color: #008000; text-decoration-color: #008000\">╰─────────────────────────────────────────────────────────────────────────────────────────────────────────────────╯</span>\n",
              "</pre>\n"
            ]
          },
          "metadata": {}
        },
        {
          "output_type": "display_data",
          "data": {
            "text/plain": [
              "\n"
            ],
            "text/html": [
              "<pre style=\"white-space:pre;overflow-x:auto;line-height:normal;font-family:Menlo,'DejaVu Sans Mono',consolas,'Courier New',monospace\">\n",
              "</pre>\n"
            ]
          },
          "metadata": {}
        }
      ],
      "source": [
        "# Run the crew\n",
        "website_link = \"https://www.vanderbilt.edu/undergrad-datascience/minor/\"\n",
        "result = crew.kickoff({\"provided_link\": website_link, \"user_question\": \"How many credit hours is this program?\"})"
      ]
    },
    {
      "cell_type": "markdown",
      "id": "8c13a486",
      "metadata": {
        "lines_to_next_cell": 0,
        "id": "8c13a486"
      },
      "source": [
        "## Print the result"
      ]
    },
    {
      "cell_type": "code",
      "execution_count": 10,
      "id": "ff3cd59f",
      "metadata": {
        "lines_to_next_cell": 2,
        "colab": {
          "base_uri": "https://localhost:8080/"
        },
        "id": "ff3cd59f",
        "outputId": "c97f2603-2c00-45c5-b7dd-6c38314fd909"
      },
      "outputs": [
        {
          "output_type": "stream",
          "name": "stdout",
          "text": [
            "The program requires a total of 19 credit hours.\n"
          ]
        }
      ],
      "source": [
        "# Print the result\n",
        "print(result)"
      ]
    }
  ],
  "metadata": {
    "jupytext": {
      "cell_metadata_filter": "-all",
      "main_language": "python",
      "notebook_metadata_filter": "-all"
    },
    "kernelspec": {
      "display_name": "crewai-venv",
      "language": "python",
      "name": "python3"
    },
    "language_info": {
      "codemirror_mode": {
        "name": "ipython",
        "version": 3
      },
      "file_extension": ".py",
      "mimetype": "text/x-python",
      "name": "python",
      "nbconvert_exporter": "python",
      "pygments_lexer": "ipython3",
      "version": "3.11.8"
    },
    "colab": {
      "provenance": [],
      "include_colab_link": true
    }
  },
  "nbformat": 4,
  "nbformat_minor": 5
}